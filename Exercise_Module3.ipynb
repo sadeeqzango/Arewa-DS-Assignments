{
 "cells": [
  {
   "cell_type": "markdown",
   "id": "a798da7b-597d-451a-b3b1-a003bf8723b5",
   "metadata": {},
   "source": [
    "## Integer"
   ]
  },
  {
   "cell_type": "code",
   "execution_count": 1,
   "id": "7034162c-c6d3-4563-9196-b11f47e134f2",
   "metadata": {},
   "outputs": [
    {
     "name": "stdout",
     "output_type": "stream",
     "text": [
      "Addition:  3\n",
      "Subtraction:  1\n",
      "Multiplication:  6\n",
      "Division:  2.0\n",
      "Division:  3.0\n",
      "Division:  3.5\n",
      "Division without the remainder:  3\n",
      "Division without the remainder:  2\n",
      "Modulus:  1\n",
      "Exponentiation:  8\n"
     ]
    }
   ],
   "source": [
    "# Arithmetic Operations in Python\n",
    "# Integers\n",
    "\n",
    "print('Addition: ', 1 + 2)        # 3\n",
    "print('Subtraction: ', 2 - 1)     # 1\n",
    "print('Multiplication: ', 2 * 3)  # 6\n",
    "print ('Division: ', 4 / 2)       # 2.0  Division in Python gives floating number\n",
    "print('Division: ', 6 / 2)        # 3.0         \n",
    "print('Division: ', 7 / 2)        # 3.5\n",
    "print('Division without the remainder: ', 7 // 2)   # 3,  gives without the floating number or without the remaining\n",
    "print ('Division without the remainder: ',7 // 3)   # 2\n",
    "print('Modulus: ', 3 % 2)         # 1, Gives the remainder\n",
    "print('Exponentiation: ', 2 ** 3) # 9 it means 2 * 2 * 2"
   ]
  },
  {
   "cell_type": "markdown",
   "id": "3ba4d353-4b92-4716-8895-0084e1d69adf",
   "metadata": {},
   "source": [
    "## Floats"
   ]
  },
  {
   "cell_type": "code",
   "execution_count": 5,
   "id": "6e8b6761-163b-4689-b7d1-928e913fa292",
   "metadata": {},
   "outputs": [
    {
     "name": "stdout",
     "output_type": "stream",
     "text": [
      "Floating Point Number, PI 3.14\n",
      "Floating Point Number, gravity 9.81\n"
     ]
    }
   ],
   "source": [
    "# Floating numbers\n",
    "print('Floating Point Number, PI', 3.14)\n",
    "print('Floating Point Number, gravity', 9.81)"
   ]
  },
  {
   "cell_type": "markdown",
   "id": "b14d6551-176a-4bbe-a510-50d2a8eff544",
   "metadata": {},
   "source": [
    "## Complex Numbers"
   ]
  },
  {
   "cell_type": "code",
   "execution_count": 8,
   "id": "6467a940-67fc-4e10-bdbb-68200f0b702b",
   "metadata": {},
   "outputs": [
    {
     "name": "stdout",
     "output_type": "stream",
     "text": [
      "Complex number:  (1+1j)\n",
      "Multiplying complex numbers:  (2+0j)\n"
     ]
    }
   ],
   "source": [
    "# Complex numbers\n",
    "print('Complex number: ', 1 + 1j)\n",
    "print('Multiplying complex numbers: ',(1 + 1j) * (1 - 1j))"
   ]
  },
  {
   "cell_type": "code",
   "execution_count": 12,
   "id": "0b521010-a554-4e81-8157-c07bd05d8144",
   "metadata": {},
   "outputs": [
    {
     "name": "stdout",
     "output_type": "stream",
     "text": [
      "5\n",
      "a + b =  5\n",
      "a - b =  1\n",
      "a * b =  6\n",
      "a / b =  1.5\n",
      "a % b =  1\n",
      "a // b =  1\n",
      "a ** b =  9\n"
     ]
    }
   ],
   "source": [
    "# Declaring the variable at the top first\n",
    "\n",
    "a = 3 # a is a variable name and 3 is an integer data type\n",
    "b = 2 # b is a variable name and 3 is an integer data type\n",
    "\n",
    "# Arithmetic operations and assigning the result to a variable\n",
    "total = a + b\n",
    "diff = a - b\n",
    "product = a * b\n",
    "division = a / b\n",
    "remainder = a % b\n",
    "floor_division = a // b\n",
    "exponential = a ** b\n",
    "\n",
    "# I should have used sum instead of total but sum is a built-in function - try to avoid overriding built-in functions\n",
    "print(total) # if you do not label your print with some string, you never know where the result is coming from\n",
    "print('a + b = ', total)\n",
    "print('a - b = ', diff)\n",
    "print('a * b = ', product)\n",
    "print('a / b = ', division)\n",
    "print('a % b = ', remainder)\n",
    "print('a // b = ', floor_division)\n",
    "print('a ** b = ', exponential)"
   ]
  },
  {
   "cell_type": "code",
   "execution_count": 14,
   "id": "42f6a5df-2c36-4b7a-b9bc-953cb34abe38",
   "metadata": {},
   "outputs": [
    {
     "name": "stdout",
     "output_type": "stream",
     "text": [
      "== Addition, Subtraction, Multiplication, Division, Modulus ==\n",
      "total:  7\n",
      "difference:  1\n",
      "product:  12\n",
      "division:  1.3333333333333333\n",
      "remainder:  1\n"
     ]
    }
   ],
   "source": [
    "print('== Addition, Subtraction, Multiplication, Division, Modulus ==')\n",
    "\n",
    "# Declaring values and organizing them together\n",
    "num_one = 3\n",
    "num_two = 4\n",
    "\n",
    "# Arithmetic operations\n",
    "total = num_one + num_two\n",
    "diff = num_two - num_one\n",
    "product = num_one * num_two\n",
    "div = num_two / num_one\n",
    "remainder = num_two % num_one\n",
    "\n",
    "# Printing values with label\n",
    "print('total: ', total)\n",
    "print('difference: ', diff)\n",
    "print('product: ', product)\n",
    "print('division: ', div)\n",
    "print('remainder: ', remainder)"
   ]
  },
  {
   "cell_type": "code",
   "execution_count": 28,
   "id": "1973c91d-9903-440c-82a6-37e477fd9916",
   "metadata": {},
   "outputs": [
    {
     "name": "stdout",
     "output_type": "stream",
     "text": [
      "Area of a circle = 314.0\n",
      "Area of a rectangle = 200\n",
      "The weight of an object = 735.75 N\n",
      "The Density = 1000.0\n"
     ]
    }
   ],
   "source": [
    "# Calculating area of a circle\n",
    "radius = 10                                 # radius of a circle\n",
    "area_of_circle = 3.14 * radius ** 2         # two * sign means exponent or power\n",
    "print(\"Area of a circle =\", area_of_circle)\n",
    "\n",
    "# Calculating area of a rectangle\n",
    "length = 10\n",
    "width = 20\n",
    "area_of_rectangle = length * width\n",
    "print(\"Area of a rectangle =\", area_of_rectangle)\n",
    "\n",
    "# Calculating weight of an object\n",
    "Mass = 75\n",
    "gravity = 9.81\n",
    "weight = Mass * gravity\n",
    "print(\"The weight of an object =\", weight,\"N\")   # Adding unit to the weight\n",
    "\n",
    "# Calculate the density of a liquid\n",
    "mass = 75 # in Kg\n",
    "volume = 0.075 # in cubic meter\n",
    "density = mass / volume # 1000 Kg/m^3\n",
    "print(\"The Density =\", density)\n"
   ]
  },
  {
   "cell_type": "markdown",
   "id": "d6a0224d-9c55-410b-a001-7119edd8782c",
   "metadata": {},
   "source": [
    "## Comparison Operators"
   ]
  },
  {
   "cell_type": "code",
   "execution_count": 31,
   "id": "4469b344-a904-4e09-8c9e-ad5e603bb635",
   "metadata": {},
   "outputs": [
    {
     "name": "stdout",
     "output_type": "stream",
     "text": [
      "True\n",
      "True\n",
      "False\n",
      "True\n",
      "True\n",
      "False\n",
      "True\n",
      "False\n",
      "True\n",
      "True\n",
      "False\n",
      "True\n",
      "True\n",
      "False\n",
      "True == True:  True\n",
      "True == False:  False\n",
      "False == False: True\n"
     ]
    }
   ],
   "source": [
    "print(3 > 2)     # True, because 3 is greater than 2\n",
    "print(3 >= 2)    # True, because 3 is greater than 2\n",
    "print(3 < 2)     # False,  because 3 is greater than 2\n",
    "print(2 < 3)     # True, because 2 is less than 3\n",
    "print(2 <= 3)    # True, because 2 is less than 3\n",
    "print(3 == 2)    # False, because 3 is not equal to 2\n",
    "print(3 != 2)    # True, because 3 is not equal to 2\n",
    "print(len('mango') == len('avocado'))  # False\n",
    "print(len('mango') != len('avocado'))  # True\n",
    "print(len('mango') < len('avocado'))   # True\n",
    "print(len('milk') != len('meat'))      # False\n",
    "print(len('milk') == len('meat'))      # True\n",
    "print(len('tomato') == len('potato'))  # True\n",
    "print(len('python') > len('dragon'))   # False\n",
    "\n",
    "\n",
    "# Comparing something gives either a True or False\n",
    "\n",
    "print('True == True: ', True == True)\n",
    "print('True == False: ', True == False)\n",
    "print('False == False:', False == False)"
   ]
  },
  {
   "cell_type": "code",
   "execution_count": 35,
   "id": "4af4de5c-d472-4b32-99e0-bce71c17f3ff",
   "metadata": {},
   "outputs": [
    {
     "name": "stdout",
     "output_type": "stream",
     "text": [
      "A in Asabeneh True\n",
      "B in Asabeneh False\n",
      "True\n",
      "a in an: True\n"
     ]
    }
   ],
   "source": [
    "\n",
    "print('A in Asabeneh', 'A' in 'Asabeneh') # True - A found in the string\n",
    "print('B in Asabeneh', 'B' in 'Asabeneh') # False - there is no uppercase B\n",
    "print('coding' in 'coding for all') # True - because coding for all has the word coding\n",
    "print('a in an:', 'a' in 'an')      # True\n"
   ]
  },
  {
   "cell_type": "markdown",
   "id": "d1a4ae6c-cced-4900-9a58-aa0067df1b78",
   "metadata": {},
   "source": [
    "## Logical Operators"
   ]
  },
  {
   "cell_type": "code",
   "execution_count": 38,
   "id": "d9d7357e-93b0-489e-b315-34616ab240d4",
   "metadata": {},
   "outputs": [
    {
     "name": "stdout",
     "output_type": "stream",
     "text": [
      "True\n",
      "False\n",
      "False\n",
      "True and True:  True\n",
      "True\n",
      "True\n",
      "False\n",
      "True or False: True\n",
      "False\n",
      "False\n",
      "True\n",
      "True\n",
      "False\n"
     ]
    }
   ],
   "source": [
    "print(3 > 2 and 4 > 3) # True - because both statements are true\n",
    "print(3 > 2 and 4 < 3) # False - because the second statement is false\n",
    "print(3 < 2 and 4 < 3) # False - because both statements are false\n",
    "print('True and True: ', True and True)\n",
    "print(3 > 2 or 4 > 3)  # True - because both statements are true\n",
    "print(3 > 2 or 4 < 3)  # True - because one of the statements is true\n",
    "print(3 < 2 or 4 < 3)  # False - because both statements are false\n",
    "print('True or False:', True or False)\n",
    "print(not 3 > 2)     # False - because 3 > 2 is true, then not True gives False\n",
    "print(not True)      # False - Negation, the not operator turns true to false\n",
    "print(not False)     # True\n",
    "print(not not True)  # True\n",
    "print(not not False) # False"
   ]
  },
  {
   "cell_type": "markdown",
   "id": "d6cc461e-76f5-452b-8169-479cbe38cb08",
   "metadata": {},
   "source": [
    "## Exercise "
   ]
  },
  {
   "cell_type": "code",
   "execution_count": 58,
   "id": "ce508048-5df1-4675-bd69-cd2132cfc0e1",
   "metadata": {},
   "outputs": [
    {
     "name": "stdin",
     "output_type": "stream",
     "text": [
      "Please enter the base 10\n",
      "Please enter the height 20\n"
     ]
    },
    {
     "name": "stdout",
     "output_type": "stream",
     "text": [
      "The area of the triangle is 100.0\n"
     ]
    },
    {
     "name": "stdin",
     "output_type": "stream",
     "text": [
      "Please enter side a 10\n",
      "Please enter side b 20\n",
      "Please enter side c 30\n"
     ]
    },
    {
     "name": "stdout",
     "output_type": "stream",
     "text": [
      "The perimeter of the triangle is 60\n"
     ]
    }
   ],
   "source": [
    "Age = 30\n",
    "Height = 1.79\n",
    "z = 3 + 4j\n",
    "\n",
    "# The Area of a Triangle\n",
    "Base = float(input(\"Please enter the base\"))\n",
    "height = float(input(\"Please enter the height\"))\n",
    "Area_of_triangle = 0.5 * Base * height             # covert the input number to float bcox of 0.5 float num\n",
    "print(\"The area of the triangle is\", Area_of_triangle)\n",
    "\n",
    "# Parameter of a triangle\n",
    "a = int(input(\"Please enter side a\"))\n",
    "b = int(input(\"Please enter side b\"))\n",
    "c = int(input(\"Please enter side c\"))\n",
    "parameter = a+b+c \n",
    "print(\"The perimeter of the triangle is\", parameter)\n"
   ]
  },
  {
   "cell_type": "code",
   "execution_count": 60,
   "id": "30fe8fb7-15c3-4399-ae44-3df7e7a845d3",
   "metadata": {},
   "outputs": [
    {
     "name": "stdin",
     "output_type": "stream",
     "text": [
      "Enter Length 1\n",
      "Enter Width 2\n"
     ]
    },
    {
     "name": "stdout",
     "output_type": "stream",
     "text": [
      "The Area is 2\n",
      "The parameter is 6\n"
     ]
    }
   ],
   "source": [
    "# Area and parameter of Rectangle\n",
    "length = int(input(\"Enter Length\"))\n",
    "width = int(input(\"Enter Width\"))\n",
    "Area = length * width\n",
    "Parameter = 2*(length + width)\n",
    "print(\"The Area is\", Area)\n",
    "print(\"The parameter is\", Parameter)"
   ]
  },
  {
   "cell_type": "code",
   "execution_count": 66,
   "id": "1b051d9d-2f6d-44ea-9fb7-2b27612dbdc0",
   "metadata": {},
   "outputs": [
    {
     "name": "stdin",
     "output_type": "stream",
     "text": [
      "Enter radius 3\n"
     ]
    },
    {
     "name": "stdout",
     "output_type": "stream",
     "text": [
      "Area is  28.259999999999998\n",
      "Circumference is 18.84\n"
     ]
    }
   ],
   "source": [
    "# Radius and circumference of a Circle\n",
    "radius = float(input(\"Enter radius\"))\n",
    "pi = 3.14\n",
    "area = pi * radius * radius\n",
    "circumference = 2 * pi * radius\n",
    "print(\"Area is \", area)\n",
    "print(\"Circumference is\", circumference)"
   ]
  },
  {
   "cell_type": "code",
   "execution_count": 68,
   "id": "072f7ff7-456f-471d-9adb-2eee93dcb851",
   "metadata": {},
   "outputs": [
    {
     "name": "stdout",
     "output_type": "stream",
     "text": [
      "Equation y = 2x - 2\n",
      "Slope: 2\n",
      "x-intercept: (1.0, 0)\n",
      "y-intercept: (0, -2)\n",
      "\n",
      "Between points (2,2) and (6,10):\n",
      "Slope: 2.0\n",
      "Euclidean distance: 8.94\n",
      "\n",
      "The slopes are equal.\n"
     ]
    }
   ],
   "source": [
    "import math\n",
    "\n",
    "# Equation: y = 2x - 2\n",
    "m_eq = 2  # slope\n",
    "b_eq = -2  # y-intercept\n",
    "\n",
    "# Calculate x-intercept: set y = 0, solve for x\n",
    "x_intercept = -b_eq / m_eq\n",
    "\n",
    "print(\"Equation y = 2x - 2\")\n",
    "print(f\"Slope: {m_eq}\")\n",
    "print(f\"x-intercept: ({x_intercept}, 0)\")\n",
    "print(f\"y-intercept: (0, {b_eq})\")\n",
    "\n",
    "# Points\n",
    "x1, y1 = 2, 2\n",
    "x2, y2 = 6, 10\n",
    "\n",
    "# Calculate slope between points\n",
    "m_points = (y2 - y1) / (x2 - x1)\n",
    "\n",
    "# Calculate Euclidean distance between points\n",
    "distance = math.sqrt((x2 - x1)**2 + (y2 - y1)**2)\n",
    "\n",
    "print(\"\\nBetween points (2,2) and (6,10):\")\n",
    "print(f\"Slope: {m_points}\")\n",
    "print(f\"Euclidean distance: {distance:.2f}\")\n",
    "\n",
    "# Compare slopes\n",
    "if m_eq == m_points:\n",
    "    print(\"\\nThe slopes are equal.\")\n",
    "else:\n",
    "    print(\"\\nThe slopes are different.\")\n"
   ]
  },
  {
   "cell_type": "code",
   "execution_count": 74,
   "id": "3fdf8cd6-42d4-4db1-af16-ed684fc9f09d",
   "metadata": {},
   "outputs": [
    {
     "name": "stdout",
     "output_type": "stream",
     "text": [
      "x = -6, y = 9\n",
      "x = -5, y = 4\n",
      "x = -4, y = 1\n",
      "x = -3, y = 0\n",
      "x = -2, y = 1\n",
      "x = -1, y = 4\n",
      "x = 0, y = 9\n",
      "x = 1, y = 16\n",
      "x = 2, y = 25\n",
      "x = 3, y = 36\n",
      "\n",
      "The value of x where y = 0 is: x = -3\n"
     ]
    }
   ],
   "source": [
    "# Equation: y = x^2 + 6x + 9\n",
    "\n",
    "def equation(x):\n",
    "    return x**2 + 6*x + 9\n",
    "\n",
    "# Try different x values\n",
    "for x in range(-6, 4):\n",
    "    y = equation(x)\n",
    "    print(f\"x = {x}, y = {y}\")\n",
    "\n",
    "# Solve for x when y = 0\n",
    "# Since (x + 3)^2 = 0, x = -3\n",
    "print(\"\\nThe value of x where y = 0 is: x = -3\")\n"
   ]
  },
  {
   "cell_type": "code",
   "execution_count": 82,
   "id": "9b9c70d0-96de-4a25-aad0-fb0da3be2109",
   "metadata": {},
   "outputs": [
    {
     "name": "stdout",
     "output_type": "stream",
     "text": [
      "False\n"
     ]
    }
   ],
   "source": [
    "# Find the length of 'python' and 'dragon' and make a falsy comparison statement.\n",
    "a = len('dragon')\n",
    "b = len(\"python\")\n",
    "print(a<b)"
   ]
  },
  {
   "cell_type": "code",
   "execution_count": 86,
   "id": "31c4a350-4b30-4221-aa78-f98a3ba06e0e",
   "metadata": {},
   "outputs": [
    {
     "name": "stdout",
     "output_type": "stream",
     "text": [
      "True\n"
     ]
    }
   ],
   "source": [
    "# Use and operator to check if 'on' is found in both 'python' and 'dragon'\n",
    "print((\"on\" in \"python\") and (\"on\" in \"dragon\"))"
   ]
  },
  {
   "cell_type": "code",
   "execution_count": 88,
   "id": "b7d036b9-14a0-43dc-860c-dec1133c9b24",
   "metadata": {},
   "outputs": [
    {
     "name": "stdout",
     "output_type": "stream",
     "text": [
      "True\n"
     ]
    }
   ],
   "source": [
    "# I hope this course is not full of jargon. Use in operator to check if jargon is in the sentence.\n",
    "print(\"jargon\" in \"I hope this course is not full of jargon\")\n"
   ]
  },
  {
   "cell_type": "code",
   "execution_count": 92,
   "id": "de7f4044-bca8-481d-9e44-68cbec4947fa",
   "metadata": {},
   "outputs": [
    {
     "name": "stdout",
     "output_type": "stream",
     "text": [
      "False\n"
     ]
    }
   ],
   "source": [
    "# There is no 'on' in both dragon and python\n",
    "print((\"on\" in \"python\") != (\"on\" in \"dragon\"))"
   ]
  },
  {
   "cell_type": "code",
   "execution_count": 96,
   "id": "6f2ba904-895f-4d43-927c-7d58b8556d7c",
   "metadata": {},
   "outputs": [
    {
     "name": "stdout",
     "output_type": "stream",
     "text": [
      "6.0\n",
      "6.0\n"
     ]
    }
   ],
   "source": [
    "# Find the length of the text python and convert the value to float and convert it to string\n",
    "a = float(len(\"python\"))\n",
    "print(a)\n",
    "a = str(a)\n",
    "print(a)\n"
   ]
  },
  {
   "cell_type": "code",
   "execution_count": 100,
   "id": "c400a146-c047-4b48-a4e5-ce327ca006c2",
   "metadata": {},
   "outputs": [
    {
     "name": "stdout",
     "output_type": "stream",
     "text": [
      "10 is an even number\n"
     ]
    }
   ],
   "source": [
    "# Even numbers are divisible by 2 and the remainder is zero. How do you check if a number is even or not using python?\n",
    "num = 10\n",
    "if num % 2 == 0:\n",
    "    print(f\"{num} is an even number\")\n",
    "else:\n",
    "    print(f\"{num} is an even number\")\n"
   ]
  },
  {
   "cell_type": "code",
   "execution_count": 106,
   "id": "f10ce8b2-980f-4c71-8898-667c904802de",
   "metadata": {},
   "outputs": [
    {
     "name": "stdout",
     "output_type": "stream",
     "text": [
      "2.7 is not a floor division of 7 by 3\n",
      "The floor division of 7 by 3 is 2\n"
     ]
    }
   ],
   "source": [
    "# Check if the floor division of 7 by 3 is equal to the int converted value of 2.7.\n",
    "a = 2.7\n",
    "if a == 7//3 :\n",
    "    print(f'{a} is a floor division of 7 by 3')\n",
    "else:\n",
    "    print(f'{a} is not a floor division of 7 by 3')\n",
    "print(\"The floor division of 7 by 3 is\", 7//3 )"
   ]
  },
  {
   "cell_type": "code",
   "execution_count": 108,
   "id": "47e90ad8-0b39-4c26-9b92-082c5adf22bd",
   "metadata": {},
   "outputs": [
    {
     "name": "stdout",
     "output_type": "stream",
     "text": [
      "False\n"
     ]
    }
   ],
   "source": [
    "# Check if type of '10' is equal to type of 10\n",
    "a = \"10\"\n",
    "b = 10\n",
    "print(a == b)"
   ]
  },
  {
   "cell_type": "code",
   "execution_count": 110,
   "id": "d3327905-1064-4e74-8f89-b0d43f67caf8",
   "metadata": {},
   "outputs": [
    {
     "name": "stdout",
     "output_type": "stream",
     "text": [
      "False\n"
     ]
    }
   ],
   "source": [
    "# Check if int('9.8') is equal to 10\n",
    "a = int(9.8)\n",
    "b = 10\n",
    "print(a==b)"
   ]
  },
  {
   "cell_type": "code",
   "execution_count": 116,
   "id": "dd29c4b8-4c95-414b-856e-7edba0a83740",
   "metadata": {},
   "outputs": [
    {
     "name": "stdin",
     "output_type": "stream",
     "text": [
      "Enter hours: 40\n",
      "Enter rate per pay: 28\n"
     ]
    },
    {
     "name": "stdout",
     "output_type": "stream",
     "text": [
      "The pay of this person is 1120\n"
     ]
    }
   ],
   "source": [
    "# Writ a script that prompts the user to enter hours and rate per hour. Calculate pay of the person?\n",
    "hours = int(input(\"Enter hours:\"))\n",
    "rate_per_pay = int(input(\"Enter rate per pay:\"))\n",
    "pay = hours * rate_per_pay\n",
    "print(f'The pay of this person is {pay}')"
   ]
  },
  {
   "cell_type": "code",
   "execution_count": 126,
   "id": "8393f99a-9549-49ca-8632-6e235e09db51",
   "metadata": {},
   "outputs": [
    {
     "name": "stdin",
     "output_type": "stream",
     "text": [
      "Enter number of years: 95\n"
     ]
    },
    {
     "name": "stdout",
     "output_type": "stream",
     "text": [
      "This person live 2922048000 seconds\n"
     ]
    }
   ],
   "source": [
    "# Write a script that prompts the user to enter number of years. Calculate the number of seconds a person can live. Assume a person can live hundred years\n",
    "num_years = int(input('Enter number of years:'))\n",
    "seconds = 60*60*24*356*num_years\n",
    "if num_years <= 100:\n",
    "     print(f'This person live {seconds} seconds')\n",
    "else:\n",
    "    print('Above 100 years')"
   ]
  },
  {
   "cell_type": "code",
   "execution_count": 128,
   "id": "aaf837bf-5299-4468-8499-6c1e174e254f",
   "metadata": {},
   "outputs": [
    {
     "name": "stdout",
     "output_type": "stream",
     "text": [
      "1 1 1 1 1\n",
      "2 1 2 4 8\n",
      "3 1 3 9 27\n",
      "4 1 4 16 64\n",
      "5 1 5 25 125\n"
     ]
    }
   ],
   "source": [
    "print(\"1 1 1 1 1\")\n",
    "print(\"2 1 2 4 8\")\n",
    "print(\"3 1 3 9 27\")\n",
    "print(\"4 1 4 16 64\")\n",
    "print(\"5 1 5 25 125\")"
   ]
  },
  {
   "cell_type": "code",
   "execution_count": null,
   "id": "309b1baa-cb45-48f2-a4d4-71ef39737d31",
   "metadata": {},
   "outputs": [],
   "source": []
  }
 ],
 "metadata": {
  "kernelspec": {
   "display_name": "Python [conda env:anaconda3] *",
   "language": "python",
   "name": "conda-env-anaconda3-py"
  },
  "language_info": {
   "codemirror_mode": {
    "name": "ipython",
    "version": 3
   },
   "file_extension": ".py",
   "mimetype": "text/x-python",
   "name": "python",
   "nbconvert_exporter": "python",
   "pygments_lexer": "ipython3",
   "version": "3.12.7"
  }
 },
 "nbformat": 4,
 "nbformat_minor": 5
}
