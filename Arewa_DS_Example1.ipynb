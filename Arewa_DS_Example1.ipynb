{
  "cells": [
    {
      "cell_type": "markdown",
      "metadata": {
        "colab_type": "text",
        "id": "view-in-github"
      },
      "source": [
        "<a href=\"https://colab.research.google.com/github/sadeeqzango/Arewa-DS-Assignments/blob/main/Arewa_DS_Example1.ipynb\" target=\"_parent\"><img src=\"https://colab.research.google.com/assets/colab-badge.svg\" alt=\"Open In Colab\"/></a>"
      ]
    },
    {
      "cell_type": "code",
      "execution_count": 1,
      "metadata": {
        "colab": {
          "base_uri": "https://localhost:8080/"
        },
        "id": "k6WYIbOr9Fn5",
        "outputId": "cf992f18-a53c-4781-d71f-9646b7e231b3"
      },
      "outputs": [
        {
          "name": "stdout",
          "output_type": "stream",
          "text": [
            "me\n"
          ]
        }
      ],
      "source": [
        "print(\"me\")"
      ]
    },
    {
      "cell_type": "code",
      "execution_count": 1,
      "metadata": {
        "colab": {
          "base_uri": "https://localhost:8080/"
        },
        "id": "rzkciCXRORQH",
        "outputId": "78817e38-66e4-4523-d714-cc6b73234181"
      },
      "outputs": [
        {
          "name": "stdout",
          "output_type": "stream",
          "text": [
            "/root\n"
          ]
        }
      ],
      "source": [
        "%cd"
      ]
    },
    {
      "cell_type": "code",
      "execution_count": 2,
      "metadata": {
        "colab": {
          "base_uri": "https://localhost:8080/"
        },
        "id": "td3oDJhHOdAb",
        "outputId": "a6d50e8f-9764-486c-c14f-da806ea6ff4a"
      },
      "outputs": [
        {
          "name": "stdout",
          "output_type": "stream",
          "text": [
            "/content/drive/MyDrive\n"
          ]
        }
      ],
      "source": [
        "%cd /content/drive/MyDrive/"
      ]
    },
    {
      "cell_type": "code",
      "execution_count": 4,
      "metadata": {
        "colab": {
          "base_uri": "https://localhost:8080/"
        },
        "id": "nfgkbduRO4Jj",
        "outputId": "b2f09088-6317-4f42-84cf-1ab9383406ba"
      },
      "outputs": [
        {
          "name": "stdout",
          "output_type": "stream",
          "text": [
            "mkdir: cannot create directory ‘ArewaDSColabTest’: File exists\n"
          ]
        }
      ],
      "source": [
        "!mkdir ArewaDSColabTest\n"
      ]
    },
    {
      "cell_type": "code",
      "execution_count": 5,
      "metadata": {
        "colab": {
          "base_uri": "https://localhost:8080/"
        },
        "id": "KD3nsLADPToT",
        "outputId": "a715d240-5b53-4cfc-88c2-9500430c7f2a"
      },
      "outputs": [
        {
          "name": "stdout",
          "output_type": "stream",
          "text": [
            "/content/drive/MyDrive/ArewaDSColabTest\n"
          ]
        }
      ],
      "source": [
        "%cd ArewaDSColabTest/"
      ]
    },
    {
      "cell_type": "code",
      "execution_count": 6,
      "metadata": {
        "colab": {
          "base_uri": "https://localhost:8080/"
        },
        "id": "epIlq4JRUU3T",
        "outputId": "56eac804-d971-43e1-d61e-4fe9802a9b6b"
      },
      "outputs": [
        {
          "name": "stdout",
          "output_type": "stream",
          "text": [
            "Cloning into 'python-programming-fellowship'...\n",
            "remote: Enumerating objects: 905, done.\u001b[K\n",
            "remote: Counting objects: 100% (227/227), done.\u001b[K\n",
            "remote: Compressing objects: 100% (145/145), done.\u001b[K\n",
            "remote: Total 905 (delta 178), reused 105 (delta 74), pack-reused 678 (from 3)\u001b[K\n",
            "Receiving objects: 100% (905/905), 43.35 MiB | 12.88 MiB/s, done.\n",
            "Resolving deltas: 100% (374/374), done.\n",
            "Updating files: 100% (203/203), done.\n"
          ]
        }
      ],
      "source": [
        "!git clone https://github.com/arewadataScience/python-programming-fellowship.git"
      ]
    },
    {
      "cell_type": "markdown",
      "metadata": {
        "id": "DuozWsSbUoyL"
      },
      "source": []
    },
    {
      "cell_type": "code",
      "execution_count": 2,
      "metadata": {},
      "outputs": [
        {
          "data": {
            "text/plain": [
              "6"
            ]
          },
          "execution_count": 2,
          "metadata": {},
          "output_type": "execute_result"
        }
      ],
      "source": [
        "a = 2\n",
        "b = 4\n",
        "c = a + b\n",
        "c"
      ]
    }
  ],
  "metadata": {
    "colab": {
      "authorship_tag": "ABX9TyP3h9lNqKl5wx2+zkiCIq1m",
      "include_colab_link": true,
      "mount_file_id": "1Y0bNc0wvTAxJLpq_5-FMS3cgY0QYixR9",
      "provenance": []
    },
    "kernelspec": {
      "display_name": "Python 3",
      "name": "python3"
    },
    "language_info": {
      "codemirror_mode": {
        "name": "ipython",
        "version": 3
      },
      "file_extension": ".py",
      "mimetype": "text/x-python",
      "name": "python",
      "nbconvert_exporter": "python",
      "pygments_lexer": "ipython3",
      "version": "3.13.0"
    }
  },
  "nbformat": 4,
  "nbformat_minor": 0
}
