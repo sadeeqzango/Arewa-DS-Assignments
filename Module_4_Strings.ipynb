{
 "cells": [
  {
   "cell_type": "markdown",
   "id": "9816913b-4b97-46fa-b306-9690dc3baeab",
   "metadata": {},
   "source": [
    "# Strings"
   ]
  },
  {
   "cell_type": "code",
   "execution_count": 3,
   "id": "9941f114-e34e-401b-ad70-b54f91e84962",
   "metadata": {},
   "outputs": [
    {
     "name": "stdout",
     "output_type": "stream",
     "text": [
      "P\n",
      "1\n",
      "Hello, World!\n",
      "13\n",
      "I hope you are enjoying 30 days of Python Challenge\n"
     ]
    }
   ],
   "source": [
    "letter = 'P'                # A string could be a single character or a bunch of texts\n",
    "print(letter)               # P\n",
    "print(len(letter))          # 1\n",
    "greeting = 'Hello, World!'  # String could be made using a single or double quote,\"Hello, World!\"\n",
    "print(greeting)             # Hello, World!\n",
    "print(len(greeting))        # 13\n",
    "sentence = \"I hope you are enjoying 30 days of Python Challenge\"\n",
    "print(sentence)"
   ]
  },
  {
   "cell_type": "code",
   "execution_count": 5,
   "id": "70e16f0d-7013-4d3c-9916-23b7fa6605fd",
   "metadata": {},
   "outputs": [
    {
     "name": "stdout",
     "output_type": "stream",
     "text": [
      "I am a teacher and enjoy teaching.\n",
      "I didn't find anything as rewarding as empowering people.\n",
      "That is why I created 30 days of python.\n",
      "I am a teacher and enjoy teaching.\n",
      "I didn't find anything as rewarding as empowering people.\n",
      "That is why I created 30 days of python.\n"
     ]
    }
   ],
   "source": [
    "# Multiline string is created by using triple single (''') or triple double quotes (\"\"\"). See the example below.\n",
    "\n",
    "multiline_string = '''I am a teacher and enjoy teaching.\n",
    "I didn't find anything as rewarding as empowering people.\n",
    "That is why I created 30 days of python.'''\n",
    "print(multiline_string)\n",
    "\n",
    "# Another way of doing the same thing\n",
    "multiline_string = \"\"\"I am a teacher and enjoy teaching.\n",
    "I didn't find anything as rewarding as empowering people.\n",
    "That is why I created 30 days of python.\"\"\"\n",
    "print(multiline_string)"
   ]
  },
  {
   "cell_type": "markdown",
   "id": "22e945ac-ccb1-419e-b85f-c9c30d40aa65",
   "metadata": {},
   "source": [
    "## String Concatenation"
   ]
  },
  {
   "cell_type": "code",
   "execution_count": 10,
   "id": "a399e55c-15a5-445b-be7f-a0dab0500b85",
   "metadata": {},
   "outputs": [
    {
     "name": "stdout",
     "output_type": "stream",
     "text": [
      "Asabeneh Yetayeh\n",
      "8\n",
      "7\n",
      "True\n",
      "16\n"
     ]
    }
   ],
   "source": [
    "# We can connect strings together. Merging or connecting strings is called concatenation. See the example below:\n",
    "\n",
    "First_name = 'Asabeneh'\n",
    "Last_name = 'Yetayeh'\n",
    "space = ' '\n",
    "Fullname = First_name + space + Last_name\n",
    "print(Fullname)\n",
    "print(len(First_name))\n",
    "print(len(Last_name))\n",
    "print(len(First_name) > len(Last_name))\n",
    "print(len(Fullname))"
   ]
  },
  {
   "cell_type": "markdown",
   "id": "5d467f4a-26d2-494a-911e-9d8d7fd31799",
   "metadata": {},
   "source": [
    "## Escape Sequences in Strings"
   ]
  },
  {
   "cell_type": "code",
   "execution_count": 19,
   "id": "93b68633-fa55-4a3e-b99e-4120003a69a6",
   "metadata": {},
   "outputs": [
    {
     "name": "stdout",
     "output_type": "stream",
     "text": [
      "I hope everyone is enjoying the python challenge. \n",
      "Are you?\n",
      "Days \tTopics \tExercises\n",
      "Day 1 \t5 \t5\n",
      "Day 2 \t6 \t20\n",
      "Day 3 \t5 \t23\n",
      "Day 4 \t1 \t35\n",
      "This is a backslash(\\)\n",
      "In every programming language it start with a \"Hello World!\" \n"
     ]
    }
   ],
   "source": [
    "print('I hope everyone is enjoying the python challenge. \\nAre you?') # line break\n",
    "print('Days \\tTopics \\tExercises') # adding tab space or 4 spaces\n",
    "print('Day 1 \\t5 \\t5')\n",
    "print('Day 2 \\t6 \\t20')\n",
    "print('Day 3 \\t5 \\t23')\n",
    "print('Day 4 \\t1 \\t35')\n",
    "print('This is a backslash(\\\\)')   # To write a backslash\n",
    "print('In every programming language it start with a \\\"Hello World!\\\" ') # to write a double quote inside a single quote"
   ]
  },
  {
   "cell_type": "code",
   "execution_count": 27,
   "id": "f657dcb3-3c89-4248-86c7-604a0888a59e",
   "metadata": {},
   "outputs": [
    {
     "name": "stdout",
     "output_type": "stream",
     "text": [
      "My Name is Asabeneh Yetayeh. I teach Python.\n",
      "The area of circle with a radius 10 is 314.00.\n",
      "The following are python libraries:['Django', 'Flask', 'NumPy', 'Matplotlib', 'Pandas']\n"
     ]
    }
   ],
   "source": [
    "# String formatting\n",
    "# Strings only\n",
    "\n",
    "First_name = 'Asabeneh'\n",
    "Last_name = 'Yetayeh'\n",
    "Language = 'Python'\n",
    "formatted_string = 'My Name is %s %s. I teach %s.'%(First_name, Last_name, Language)\n",
    "print(formatted_string)\n",
    "\n",
    "# Strings  and numbers\n",
    "radius = 10\n",
    "pi = 3.14\n",
    "area = pi * radius ** 2\n",
    "formated_str = 'The area of circle with a radius %d is %.2f.' %(radius, area) # 2 refers the 2 significant digits after the point\n",
    "print(formated_str)\n",
    "\n",
    "python_libraries = ['Django', 'Flask', 'NumPy', 'Matplotlib','Pandas']\n",
    "formated_string = 'The following are python libraries:%s' % (python_libraries)\n",
    "print(formated_string) # \"The following are python libraries:['Django', 'Flask', 'NumPy', 'Matplotlib','Pandas']\""
   ]
  },
  {
   "cell_type": "code",
   "execution_count": 46,
   "id": "280f73fd-9bfe-4124-90e1-569b446fee08",
   "metadata": {},
   "outputs": [
    {
     "name": "stdout",
     "output_type": "stream",
     "text": [
      "My name is Asabeneh Yetayeh. I teach Python.\n",
      "The area of a circle is with a 10 is 314.00\n",
      "The following are python libraries: ['Django', 'Flask', 'NumPy', 'Matplotlib', 'Pandas']\n",
      "4 + 3 = 7\n",
      "4 - 3 = 1\n",
      "4 * 3 = 12\n",
      "4 / 3 = 1.33\n",
      "4 % 3 = 1\n",
      "4 // 3 = 1\n",
      "4 ** 3 = 64\n"
     ]
    }
   ],
   "source": [
    "# New Style String Formatting (str.format)\n",
    "# This formatting is introduced in Python version 3.\n",
    "\n",
    "first_name = 'Asabeneh'\n",
    "last_name = 'Yetayeh'\n",
    "language = 'Python'\n",
    "formatted_string = 'My name is {} {}. I teach {}.'.format(first_name, last_name, language)\n",
    "print(formatted_string)\n",
    "\n",
    "# Strings  and numbers\n",
    "radius = 10\n",
    "pi = 3.14\n",
    "area = pi * radius ** 2\n",
    "formatted_str = 'The area of a circle is with a {} is {:.2f}'.format(radius, area)\n",
    "print(formatted_str)\n",
    "\n",
    "python_libraries = ['Django', 'Flask', 'NumPy', 'Matplotlib','Pandas']\n",
    "formated_string = 'The following are python libraries: {}'.format(python_libraries)\n",
    "print(formated_string)\n",
    "\n",
    "a = 4\n",
    "b = 3\n",
    "\n",
    "print('{} + {} = {}'.format(a,b, a+b))\n",
    "print('{} - {} = {}'.format(a,b, a-b))\n",
    "print('{} * {} = {}'.format(a,b, a*b))\n",
    "print('{} / {} = {:.2f}'.format(a,b, a/b))       # limit to 2 decimal places\n",
    "print('{} % {} = {}'.format(a,b, a%b))\n",
    "print('{} // {} = {}'.format(a,b, a//b))\n",
    "print('{} ** {} = {}'.format(a,b, a**b))"
   ]
  },
  {
   "cell_type": "code",
   "execution_count": 52,
   "id": "15b2d734-7a44-4993-a6be-09bbdf66028c",
   "metadata": {},
   "outputs": [
    {
     "name": "stdout",
     "output_type": "stream",
     "text": [
      "4 + 3 = 7\n",
      "4 - 3 = 1\n",
      "4 * 3 = 12\n",
      "4 / 3 = 1.33\n",
      "4 % 3 = 1\n",
      "4 // 3 = 1\n"
     ]
    }
   ],
   "source": [
    "# String Interpolation / f-Strings (Python 3.6+)\n",
    "a = 4\n",
    "b = 3\n",
    "\n",
    "print(f'{a} + {b} = {a + b}')\n",
    "print(f'{a} - {b} = {a - b}')\n",
    "print(f'{a} * {b} = {a * b}')\n",
    "print(f'{a} / {b} = {a / b:.2f}')\n",
    "print(f'{a} % {b} = {a % b}')\n",
    "print(f'{a} // {b} = {a // b}')\n",
    "print(f'{a} ** {b} = {a ** b}')"
   ]
  },
  {
   "cell_type": "markdown",
   "id": "80b9c169-23b0-46e0-a1ae-7279453a043d",
   "metadata": {},
   "source": [
    "### Python Strings as Sequences of Characters"
   ]
  },
  {
   "cell_type": "code",
   "execution_count": 59,
   "id": "753fba36-4d84-4ca6-b8c7-dea460427267",
   "metadata": {},
   "outputs": [
    {
     "name": "stdout",
     "output_type": "stream",
     "text": [
      "p\n",
      "y\n",
      "t\n",
      "h\n",
      "o\n",
      "n\n"
     ]
    }
   ],
   "source": [
    "# Unpacking Characters\n",
    "language = 'python'\n",
    "a,b,c,d,e,f = language\n",
    "print(a)\n",
    "print(b)\n",
    "print(c)\n",
    "print(d)\n",
    "print(e)\n",
    "print(f)"
   ]
  },
  {
   "cell_type": "code",
   "execution_count": 65,
   "id": "7c768d67-0fdb-4bb0-9036-94c05a0a7683",
   "metadata": {},
   "outputs": [
    {
     "name": "stdout",
     "output_type": "stream",
     "text": [
      "p\n",
      "y\n",
      "n\n",
      "Pyt\n",
      "hon\n",
      "hon\n",
      "hon\n"
     ]
    }
   ],
   "source": [
    "# Accessing Characters in Strings by Index\n",
    "language = 'python'\n",
    "first_letter = language[0]\n",
    "print(first_letter)\n",
    "second_letter = language[1]\n",
    "print(second_letter)\n",
    "last_letter = language[-1]\n",
    "print(last_letter)\n",
    "\n",
    "# Slicing Python Strings\n",
    "language = 'Python'\n",
    "first_three = language[0:3] # starts at zero index and up to 3 but not include 3\n",
    "print(first_three) #Pyt\n",
    "last_three = language[3:6]\n",
    "print(last_three) # hon\n",
    "# Another way\n",
    "last_three = language[-3:]\n",
    "print(last_three)   # hon\n",
    "last_three = language[3:]\n",
    "print(last_three)   # hon"
   ]
  },
  {
   "cell_type": "code",
   "execution_count": 67,
   "id": "2f21a01b-dc8d-46c9-95ac-f79eae4f4e5f",
   "metadata": {},
   "outputs": [
    {
     "name": "stdout",
     "output_type": "stream",
     "text": [
      "!dlroW ,olleH\n"
     ]
    }
   ],
   "source": [
    "# Reversing a string\n",
    "greeting = 'Hello, World!'\n",
    "print(greeting[::-1]) # !dlroW ,olleH"
   ]
  },
  {
   "cell_type": "markdown",
   "id": "fb4be433-6658-4fcf-9d21-52d3ab74a590",
   "metadata": {},
   "source": [
    "### String Methods"
   ]
  },
  {
   "cell_type": "code",
   "execution_count": 84,
   "id": "8072f21a-975b-459c-bbd7-e10d7b1bd87c",
   "metadata": {},
   "outputs": [
    {
     "name": "stdout",
     "output_type": "stream",
     "text": [
      "Thirty days of python\n",
      "3\n",
      "1\n",
      "2\n",
      "True\n",
      "False\n"
     ]
    }
   ],
   "source": [
    "# capitalize()\n",
    "# Converts the first character of the string to capital letter\n",
    "challenge = 'thirty days of python'\n",
    "print(challenge.capitalize()) \n",
    "\n",
    "# count() : returns occurrences of substring in string, count(substring, start=.., end=..). The start is a starting indexing for counting and end is the last index to count.\n",
    "challenge = 'thirty days of python'\n",
    "print(challenge.count('y'))\n",
    "print(challenge.count('y', 7, 14))\n",
    "print(challenge.count('th'))\n",
    "\n",
    "# endswith(): Checks if a string ends with a specified ending\n",
    "challenge = 'thirty days of python'\n",
    "print(challenge.endswith('on'))\n",
    "print(challenge.endswith('tion'))"
   ]
  },
  {
   "cell_type": "code",
   "execution_count": 94,
   "id": "5dc185ed-7fa0-4227-9d9e-4b179762d6eb",
   "metadata": {},
   "outputs": [
    {
     "name": "stdout",
     "output_type": "stream",
     "text": [
      "thirty   days    of      python\n",
      "thirty   days  of  python\n",
      "thirty     days      of        python\n",
      "thirty days of python\n"
     ]
    }
   ],
   "source": [
    "# expandtabs(): Replaces tab character with spaces, default tab size is 8. It takes tab size argument\n",
    "challenge = 'thirty\\t days\\t of\\t python'\n",
    "print(challenge.expandtabs())\n",
    "print(challenge.expandtabs(2))\n",
    "print(challenge.expandtabs(10))\n",
    "print(challenge.expandtabs(0))"
   ]
  },
  {
   "cell_type": "code",
   "execution_count": 102,
   "id": "05b3e654-3321-4400-9878-78ad16511eac",
   "metadata": {},
   "outputs": [
    {
     "name": "stdout",
     "output_type": "stream",
     "text": [
      "5\n",
      "0\n",
      "-1\n"
     ]
    }
   ],
   "source": [
    "# find(): Returns the index of the first occurrence of a substring, if not found returns -1\n",
    "challenge = 'thirty days of python'\n",
    "print(challenge.find('y'))\n",
    "print(challenge.find('th'))\n",
    "print(challenge.find('j'))"
   ]
  },
  {
   "cell_type": "code",
   "execution_count": 106,
   "id": "758ab5b1-a87f-4458-8529-b1e1b6d935fe",
   "metadata": {},
   "outputs": [
    {
     "name": "stdout",
     "output_type": "stream",
     "text": [
      "16\n",
      "17\n",
      "-1\n"
     ]
    }
   ],
   "source": [
    "# rfind(): Returns the index of the last occurrence of a substring, if not found returns -1\n",
    "challenge = 'thirty days of python'\n",
    "print(challenge.rfind('y'))\n",
    "print(challenge.rfind('th'))\n",
    "print(challenge.rfind('j'))"
   ]
  },
  {
   "cell_type": "code",
   "execution_count": 108,
   "id": "8c4d258b-f0ac-41aa-bda9-8258a540ffce",
   "metadata": {},
   "outputs": [
    {
     "name": "stdout",
     "output_type": "stream",
     "text": [
      "I am Asabeneh Yetayeh. I am 250 years old. I am a teacher. I live in Finland\n"
     ]
    }
   ],
   "source": [
    "# format(): formats string into a nicer output\n",
    "first_name = 'Asabeneh'\n",
    "last_name = 'Yetayeh'\n",
    "age = 250\n",
    "job = 'teacher'\n",
    "country = 'Finland'\n",
    "formatted_sentence = 'I am {} {}. I am {} years old. I am a {}. I live in {}'.format(first_name, last_name, age, job, country)\n",
    "print(formatted_sentence) # I am Asabeneh Yetayeh. I am 250 years old. I am a teacher. I live in Finland."
   ]
  },
  {
   "cell_type": "code",
   "execution_count": 112,
   "id": "6c79770f-5247-476e-bffd-b9475d37c0e5",
   "metadata": {},
   "outputs": [
    {
     "name": "stdout",
     "output_type": "stream",
     "text": [
      "The area of a circle with 10 is 314.0\n"
     ]
    }
   ],
   "source": [
    "radius = 10\n",
    "pi = 3.14\n",
    "area = pi * radius ** 2\n",
    "result = 'The area of a circle with {} is {}'.format(str(radius), str(area))\n",
    "print(result) # The area of a circle with radius 10 is 314"
   ]
  },
  {
   "cell_type": "code",
   "execution_count": 116,
   "id": "bc4ecded-fc74-4b28-857e-769193c50613",
   "metadata": {},
   "outputs": [
    {
     "name": "stdout",
     "output_type": "stream",
     "text": [
      "7\n"
     ]
    },
    {
     "ename": "ValueError",
     "evalue": "substring not found",
     "output_type": "error",
     "traceback": [
      "\u001b[1;31m---------------------------------------------------------------------------\u001b[0m",
      "\u001b[1;31mValueError\u001b[0m                                Traceback (most recent call last)",
      "Cell \u001b[1;32mIn[116], line 6\u001b[0m\n\u001b[0;32m      4\u001b[0m sub_string \u001b[38;5;241m=\u001b[39m \u001b[38;5;124m'\u001b[39m\u001b[38;5;124mda\u001b[39m\u001b[38;5;124m'\u001b[39m\n\u001b[0;32m      5\u001b[0m \u001b[38;5;28mprint\u001b[39m(challenge\u001b[38;5;241m.\u001b[39mindex(sub_string))  \u001b[38;5;66;03m# 7\u001b[39;00m\n\u001b[1;32m----> 6\u001b[0m \u001b[38;5;28mprint\u001b[39m(challenge\u001b[38;5;241m.\u001b[39mindex(sub_string, \u001b[38;5;241m9\u001b[39m))\n",
      "\u001b[1;31mValueError\u001b[0m: substring not found"
     ]
    }
   ],
   "source": [
    "# index(): Returns the lowest index of a substring, additional arguments indicate starting and ending index (default 0 and string length - 1). \n",
    "# If the substring is not found it raises a valueError.\n",
    "challenge = 'thirty days of python'\n",
    "sub_string = 'da'\n",
    "print(challenge.index(sub_string))  # 7\n",
    "print(challenge.index(sub_string, 9)) # error"
   ]
  },
  {
   "cell_type": "code",
   "execution_count": 118,
   "id": "b9b06ef8-e040-4979-b996-cd39a6e98506",
   "metadata": {},
   "outputs": [
    {
     "name": "stdout",
     "output_type": "stream",
     "text": [
      "7\n"
     ]
    },
    {
     "ename": "ValueError",
     "evalue": "substring not found",
     "output_type": "error",
     "traceback": [
      "\u001b[1;31m---------------------------------------------------------------------------\u001b[0m",
      "\u001b[1;31mValueError\u001b[0m                                Traceback (most recent call last)",
      "Cell \u001b[1;32mIn[118], line 5\u001b[0m\n\u001b[0;32m      3\u001b[0m sub_string \u001b[38;5;241m=\u001b[39m \u001b[38;5;124m'\u001b[39m\u001b[38;5;124mda\u001b[39m\u001b[38;5;124m'\u001b[39m\n\u001b[0;32m      4\u001b[0m \u001b[38;5;28mprint\u001b[39m(challenge\u001b[38;5;241m.\u001b[39mrindex(sub_string))  \u001b[38;5;66;03m# 7\u001b[39;00m\n\u001b[1;32m----> 5\u001b[0m \u001b[38;5;28mprint\u001b[39m(challenge\u001b[38;5;241m.\u001b[39mrindex(sub_string, \u001b[38;5;241m9\u001b[39m)) \u001b[38;5;66;03m# error\u001b[39;00m\n\u001b[0;32m      6\u001b[0m \u001b[38;5;28mprint\u001b[39m(challenge\u001b[38;5;241m.\u001b[39mrindex(\u001b[38;5;124m'\u001b[39m\u001b[38;5;124mon\u001b[39m\u001b[38;5;124m'\u001b[39m, \u001b[38;5;241m8\u001b[39m))\n",
      "\u001b[1;31mValueError\u001b[0m: substring not found"
     ]
    }
   ],
   "source": [
    "# rindex(): Returns the highest index of a substring, additional arguments indicate starting and ending index (default 0 and string length - 1)\n",
    "challenge = 'thirty days of python'\n",
    "sub_string = 'da'\n",
    "print(challenge.rindex(sub_string))  # 7\n",
    "print(challenge.rindex(sub_string, 9)) # error\n",
    "print(challenge.rindex('on', 8)) # 19"
   ]
  },
  {
   "cell_type": "code",
   "execution_count": 126,
   "id": "877c28e5-8fc3-4f83-b54a-dc92c3f78b72",
   "metadata": {},
   "outputs": [
    {
     "name": "stdout",
     "output_type": "stream",
     "text": [
      "True\n",
      "True\n",
      "False\n",
      "True\n"
     ]
    }
   ],
   "source": [
    "# isalnum(): Checks alphanumeric character\n",
    "challenge = 'ThirtyDaysPython'\n",
    "print(challenge.isalnum())\n",
    "\n",
    "challenge = '30DaysPython'\n",
    "print(challenge.isalnum())\n",
    "\n",
    "challenge = 'Thirty Days of Python'\n",
    "print(challenge.isalnum())   # False, space is not an alphanumeric character\n",
    "\n",
    "challenge = '123'\n",
    "print(challenge.isalnum())"
   ]
  },
  {
   "cell_type": "code",
   "execution_count": 134,
   "id": "664785b0-28d8-40e5-8fd6-c2a934a3e0a5",
   "metadata": {},
   "outputs": [
    {
     "name": "stdout",
     "output_type": "stream",
     "text": [
      "False\n",
      "True\n",
      "False\n"
     ]
    }
   ],
   "source": [
    "# isalpha(): Checks if all string elements are alphabet characters (a-z and A-Z)\n",
    "challenge = 'Thirty Days of Python'\n",
    "print(challenge.isalpha())  # False cox space is not an alphabet\n",
    "\n",
    "challenge = 'ThirtyDaysOfPython'\n",
    "print(challenge.isalpha())\n",
    "\n",
    "num = '123'\n",
    "print(num.isalpha())\n"
   ]
  },
  {
   "cell_type": "code",
   "execution_count": 142,
   "id": "19d627e9-408c-428d-b63b-d2367df1e82a",
   "metadata": {},
   "outputs": [
    {
     "name": "stdout",
     "output_type": "stream",
     "text": [
      "False\n",
      "True\n",
      "False\n",
      "False\n"
     ]
    }
   ],
   "source": [
    "# isdecimal(): Checks if all characters in a string are decimal (0-9)\n",
    "challenge = 'Thirty Days of Python'\n",
    "print(challenge.isdecimal())\n",
    "\n",
    "challenge = '123'\n",
    "print(challenge.isdecimal())\n",
    "\n",
    "challenge = '\\u00B2'\n",
    "print(challenge.isdecimal())\n",
    "\n",
    "challenge = '1  2   3'\n",
    "print(challenge.isdecimal())  # False cox space is not a decimal\n"
   ]
  },
  {
   "cell_type": "code",
   "execution_count": 144,
   "id": "a3ac94ff-b7ca-4167-8b57-0b628e1c5484",
   "metadata": {},
   "outputs": [
    {
     "name": "stdout",
     "output_type": "stream",
     "text": [
      "False\n",
      "True\n",
      "True\n"
     ]
    }
   ],
   "source": [
    "# isdigit(): Checks if all characters in a string are numbers (0-9 and some other unicode characters for numbers)\n",
    "challenge = 'Thirty'\n",
    "print(challenge.isdigit()) # False\n",
    "challenge = '30'\n",
    "print(challenge.isdigit())   # True\n",
    "challenge = '\\u00B2'\n",
    "print(challenge.isdigit())   # True"
   ]
  },
  {
   "cell_type": "code",
   "execution_count": 146,
   "id": "570fe65d-03a8-42c2-b7f3-1c45b500706e",
   "metadata": {},
   "outputs": [
    {
     "name": "stdout",
     "output_type": "stream",
     "text": [
      "True\n",
      "True\n",
      "False\n"
     ]
    }
   ],
   "source": [
    "# isnumeric(): Checks if all characters in a string are numbers or number related (just like isdigit(), just accepts more symbols, like ½)\n",
    "num = '10'\n",
    "print(num.isnumeric()) # True\n",
    "num = '\\u00BD' # ½\n",
    "print(num.isnumeric()) # True\n",
    "num = '10.5'\n",
    "print(num.isnumeric()) # False"
   ]
  },
  {
   "cell_type": "code",
   "execution_count": 148,
   "id": "89c2c930-3164-40d4-969e-cd4101bfcad6",
   "metadata": {},
   "outputs": [
    {
     "name": "stdout",
     "output_type": "stream",
     "text": [
      "False\n",
      "True\n"
     ]
    }
   ],
   "source": [
    "# isidentifier(): Checks for a valid identifier - it checks if a string is a valid variable name\n",
    "challenge = '30DaysOfPython'\n",
    "print(challenge.isidentifier()) # False, because it starts with a number\n",
    "challenge = 'thirty_days_of_python'\n",
    "print(challenge.isidentifier()) # True"
   ]
  },
  {
   "cell_type": "code",
   "execution_count": 150,
   "id": "bddd66dc-3753-446f-868b-7e3559f4d8c7",
   "metadata": {},
   "outputs": [
    {
     "name": "stdout",
     "output_type": "stream",
     "text": [
      "True\n",
      "False\n"
     ]
    }
   ],
   "source": [
    "# islower(): Checks if all alphabet characters in the string are lowercase\n",
    "challenge = 'thirty days of python'\n",
    "print(challenge.islower()) # True\n",
    "challenge = 'Thirty days of python'\n",
    "print(challenge.islower()) # False"
   ]
  },
  {
   "cell_type": "code",
   "execution_count": 152,
   "id": "837737f4-3002-470c-98f6-ba2c7ddf483d",
   "metadata": {},
   "outputs": [
    {
     "name": "stdout",
     "output_type": "stream",
     "text": [
      "False\n",
      "True\n"
     ]
    }
   ],
   "source": [
    "# isupper(): Checks if all alphabet characters in the string are uppercase\n",
    "challenge = 'thirty days of python'\n",
    "print(challenge.isupper()) #  False\n",
    "challenge = 'THIRTY DAYS OF PYTHON'\n",
    "print(challenge.isupper()) # True"
   ]
  },
  {
   "cell_type": "code",
   "execution_count": 164,
   "id": "e9006bfe-b525-44d1-a08b-1fee24777823",
   "metadata": {},
   "outputs": [
    {
     "name": "stdout",
     "output_type": "stream",
     "text": [
      "['HTML', 'CSS', 'JavaScript', 'React']\n",
      "HTML CSS JavaScript React\n",
      "HTML#CSS#JavaScript#React\n",
      "HTML# CSS# JavaScript# React\n"
     ]
    }
   ],
   "source": [
    "# join(): Returns a concatenated string\n",
    "web_tech = ['HTML', 'CSS', 'JavaScript', 'React']\n",
    "print(web_tech)\n",
    "result = ' '.join(web_tech)\n",
    "print(result) # 'HTML CSS JavaScript React'\n",
    "\n",
    "web_tech = ['HTML', 'CSS', 'JavaScript', 'React']\n",
    "results = '#'.join(web_tech)\n",
    "print(results)\n",
    "\n",
    "web_tech = ['HTML', 'CSS', 'JavaScript', 'React']\n",
    "result = '# '.join(web_tech)\n",
    "print(result)"
   ]
  },
  {
   "cell_type": "code",
   "execution_count": 166,
   "id": "e99f748f-80f1-49a2-8233-f63169ba45d6",
   "metadata": {},
   "outputs": [
    {
     "name": "stdout",
     "output_type": "stream",
     "text": [
      "irty days of py\n"
     ]
    }
   ],
   "source": [
    "# strip(): Removes all given characters starting from the beginning and end of the string\n",
    "challenge = 'thirty days of pythoonnn'\n",
    "print(challenge.strip('noth')) # 'irty days of py'"
   ]
  },
  {
   "cell_type": "code",
   "execution_count": 172,
   "id": "4e492d72-0485-46a7-8dea-0eb6e85347c1",
   "metadata": {},
   "outputs": [
    {
     "name": "stdout",
     "output_type": "stream",
     "text": [
      "thirty days of coding\n",
      "Sadiq Zango\n"
     ]
    }
   ],
   "source": [
    "# replace(): Replaces substring with a given string\n",
    "challenge = 'thirty days of python'\n",
    "print(challenge.replace('python', 'coding')) # 'thirty days of coding'\n",
    "\n",
    "name = 'Abubakar Zango'\n",
    "print(name.replace('Abubakar', 'Sadiq'))"
   ]
  },
  {
   "cell_type": "code",
   "execution_count": 180,
   "id": "848453b6-d412-4e86-ba7f-81a4355e4683",
   "metadata": {},
   "outputs": [
    {
     "name": "stdout",
     "output_type": "stream",
     "text": [
      "['thirty', 'days', 'of', 'python']\n",
      "['thirty', 'days', 'of', 'python']\n"
     ]
    }
   ],
   "source": [
    "# split(): Splits the string, using given string or space as a separator\n",
    "challenge = 'thirty days of python'\n",
    "print(challenge.split()) # ['thirty', 'days', 'of', 'python']\n",
    "\n",
    "challenge = 'thirty, days, of, python'\n",
    "print(challenge.split(', ')) # ['thirty', 'days', 'of', 'python']\n"
   ]
  },
  {
   "cell_type": "code",
   "execution_count": 182,
   "id": "63b8b00d-4963-401b-a3ed-4779c5c22e20",
   "metadata": {},
   "outputs": [
    {
     "name": "stdout",
     "output_type": "stream",
     "text": [
      "Thirty Days Of Python\n"
     ]
    }
   ],
   "source": [
    "# title(): Returns a title cased string\n",
    "challenge = 'thirty days of python'\n",
    "print(challenge.title()) # Thirty Days Of Python"
   ]
  },
  {
   "cell_type": "code",
   "execution_count": 184,
   "id": "86151316-1613-4b88-a8e7-37c29a0943f3",
   "metadata": {},
   "outputs": [
    {
     "name": "stdout",
     "output_type": "stream",
     "text": [
      "THIRTY DAYS OF PYTHON\n",
      "tHIRTY dAYS oF pYTHON\n"
     ]
    }
   ],
   "source": [
    "# swapcase(): Converts all uppercase characters to lowercase and all lowercase characters to uppercase characters\n",
    "challenge = 'thirty days of python'\n",
    "print(challenge.swapcase())   # THIRTY DAYS OF PYTHON\n",
    "challenge = 'Thirty Days Of Python'\n",
    "print(challenge.swapcase())  # tHIRTY dAYS oF pYTHON"
   ]
  },
  {
   "cell_type": "code",
   "execution_count": 190,
   "id": "a2c838fe-a388-4515-846d-83b5bd46bc28",
   "metadata": {},
   "outputs": [
    {
     "name": "stdout",
     "output_type": "stream",
     "text": [
      "True\n",
      "False\n",
      "True\n",
      "False\n"
     ]
    }
   ],
   "source": [
    "#startswith(): Checks if String Starts with the Specified String\n",
    "challenge = 'thirty days of python'\n",
    "print(challenge.startswith('thirty')) # True\n",
    "\n",
    "challenge = '30 days of python'\n",
    "print(challenge.startswith('thirty')) # False\n",
    "\n",
    "#endswith(): Checks if String ends with the Specified String\n",
    "challenge = 'thirty days of python'\n",
    "print(challenge.endswith('python')) # True\n",
    "\n",
    "challenge = '30 days of python'\n",
    "print(challenge.endswith('30')) # False"
   ]
  },
  {
   "cell_type": "markdown",
   "id": "171e2dc8-d890-4fc3-858a-6b7e0c62f929",
   "metadata": {},
   "source": [
    "### Exercises Module 4"
   ]
  },
  {
   "cell_type": "code",
   "execution_count": 206,
   "id": "46126799-f080-4b31-88c7-27dd32380c80",
   "metadata": {},
   "outputs": [
    {
     "name": "stdout",
     "output_type": "stream",
     "text": [
      "Thirty Days Of Python\n",
      "CodingForAll\n",
      "Coding For All\n"
     ]
    }
   ],
   "source": [
    "# 1. Concatenate the string 'Thirty', 'Days', 'Of', 'Python' to a single string, 'Thirty Days Of Python'.\n",
    "Alphabet = ['Thirty', 'Days', 'Of', 'Python']\n",
    "Result = ' '.join(Alphabet)\n",
    "print(Result)\n",
    "\n",
    "# 2. Concatenate the string 'Coding', 'For' , 'All' to a single string, 'Coding For All'.\n",
    "alphabet = 'Coding', 'For' , 'All'\n",
    "result = ''.join(alphabet)\n",
    "print(result)\n",
    "\n",
    "alphabet = 'Coding', 'For' , 'All'\n",
    "result = ' '.join(alphabet)\n",
    "print(result)"
   ]
  },
  {
   "cell_type": "code",
   "execution_count": 216,
   "id": "3ae160f3-6394-4a02-910d-63aa2fceed32",
   "metadata": {},
   "outputs": [
    {
     "name": "stdout",
     "output_type": "stream",
     "text": [
      "Coding For All\n",
      "14\n",
      "CODING FOR ALL\n",
      "coding for all\n"
     ]
    }
   ],
   "source": [
    "# 3. Declare a variable named company and assign it to an initial value \"Coding For All\".\n",
    "company = \"Coding For All\"\n",
    "print(company)\n",
    "print(len(company))\n",
    "print(company.upper())\n",
    "print(company.lower())\n"
   ]
  },
  {
   "cell_type": "code",
   "execution_count": 220,
   "id": "004f9388-ea62-4e3b-9912-992ab2a745ed",
   "metadata": {},
   "outputs": [
    {
     "name": "stdout",
     "output_type": "stream",
     "text": [
      "Coding for all\n",
      "Coding For All\n",
      "cODING fOR aLL\n"
     ]
    }
   ],
   "source": [
    "# 8. Use capitalize(), title(), swapcase() methods to format the value of the string Coding For All.\n",
    "company = \"Coding For All\"\n",
    "print(company.capitalize())\n",
    "print(company.title())\n",
    "print(company.swapcase())"
   ]
  },
  {
   "cell_type": "code",
   "execution_count": 228,
   "id": "ba54c8b1-b60a-4c14-8296-ed70da4e2244",
   "metadata": {},
   "outputs": [
    {
     "name": "stdout",
     "output_type": "stream",
     "text": [
      "Coding\n"
     ]
    }
   ],
   "source": [
    "# 9. Cut(slice) out the first word of Coding For All string.\n",
    "company = \"Coding For All\"\n",
    "print(company[0:6])"
   ]
  },
  {
   "cell_type": "code",
   "execution_count": 236,
   "id": "5303262d-6846-46fd-bdd1-f4a20d7775e7",
   "metadata": {},
   "outputs": [
    {
     "name": "stdout",
     "output_type": "stream",
     "text": [
      "Coding is found\n"
     ]
    }
   ],
   "source": [
    "# Check if Coding For All string contains a word Coding using the method index, find or other methods.\n",
    "text = \"Coding For All\"\n",
    "if 'Coding' in text:\n",
    "    print('Coding is found')\n",
    "else:\n",
    "    print('not found')"
   ]
  },
  {
   "cell_type": "code",
   "execution_count": 240,
   "id": "f223938e-0bb9-45d1-8a88-6e54ec82cfcf",
   "metadata": {},
   "outputs": [
    {
     "name": "stdout",
     "output_type": "stream",
     "text": [
      "Python For All\n"
     ]
    }
   ],
   "source": [
    "# Replace the word coding in the string 'Coding For All' to Python.\n",
    "text = 'Coding For All'\n",
    "word = text.replace('Coding', 'Python')\n",
    "print(word)"
   ]
  },
  {
   "cell_type": "code",
   "execution_count": 242,
   "id": "0dec641f-d28b-40ce-a4d0-2d91d45a53a4",
   "metadata": {},
   "outputs": [
    {
     "name": "stdout",
     "output_type": "stream",
     "text": [
      "Python for All\n"
     ]
    }
   ],
   "source": [
    "# Change Python for Everyone to Python for All using the replace method or other methods.\n",
    "text = 'Python for Everyone'\n",
    "word = text.replace('for Everyone', 'for All')\n",
    "print(word)"
   ]
  },
  {
   "cell_type": "code",
   "execution_count": 252,
   "id": "b156671a-c996-4b13-bb02-8d73357324f2",
   "metadata": {},
   "outputs": [
    {
     "name": "stdout",
     "output_type": "stream",
     "text": [
      "['Coding', 'For', 'All']\n"
     ]
    }
   ],
   "source": [
    "# Split the string 'Coding For All' using space as the separator (split()) .\n",
    "text = 'Coding For All'\n",
    "print(text.split(' '))\n"
   ]
  },
  {
   "cell_type": "code",
   "execution_count": 266,
   "id": "bb07a2e2-a9ba-475b-98e4-d222bd67a2d6",
   "metadata": {},
   "outputs": [
    {
     "name": "stdout",
     "output_type": "stream",
     "text": [
      "['Facebook', ' Google', ' Microsoft', ' Apple', ' IBM', ' Oracle', ' Amazon']\n"
     ]
    }
   ],
   "source": [
    "# \"Facebook, Google, Microsoft, Apple, IBM, Oracle, Amazon\" split the string at the comma.\n",
    "text = \"Facebook, Google, Microsoft, Apple, IBM, Oracle, Amazon\"\n",
    "print(text.split(','))"
   ]
  },
  {
   "cell_type": "code",
   "execution_count": 272,
   "id": "de16df9e-9bd6-4a0b-bba9-025e0b4174b6",
   "metadata": {},
   "outputs": [
    {
     "name": "stdout",
     "output_type": "stream",
     "text": [
      "C\n"
     ]
    }
   ],
   "source": [
    "# What is the character at index 0 in the string Coding For All.\n",
    "text = 'Coding For All'\n",
    "print(text[0])"
   ]
  },
  {
   "cell_type": "code",
   "execution_count": 276,
   "id": "ba9a1344-c425-474f-a0bb-feace0f6b82b",
   "metadata": {},
   "outputs": [
    {
     "name": "stdout",
     "output_type": "stream",
     "text": [
      "11\n"
     ]
    }
   ],
   "source": [
    "# What is the last index of the string Coding For All.\n",
    "text = 'Coding For All'\n",
    "substring = 'All'\n",
    "print(text.rindex(substring))"
   ]
  },
  {
   "cell_type": "code",
   "execution_count": 286,
   "id": "e878e7be-4815-498d-b797-59a9e649f2db",
   "metadata": {},
   "outputs": [
    {
     "name": "stdout",
     "output_type": "stream",
     "text": [
      " \n"
     ]
    }
   ],
   "source": [
    "# What character is at index 10 in \"Coding For All\" string.\n",
    "text = 'Coding For All'\n",
    "print(text[10])  # space \n"
   ]
  },
  {
   "cell_type": "code",
   "execution_count": 298,
   "id": "08cebdc1-ea67-4a38-bbb7-ebef50a34201",
   "metadata": {},
   "outputs": [
    {
     "name": "stdout",
     "output_type": "stream",
     "text": [
      "PFE\n",
      "Acronym: PFE\n"
     ]
    }
   ],
   "source": [
    "# Create an acronym or an abbreviation for the name 'Python For Everyone'.\n",
    "name = 'Python For Everyone'\n",
    "word = name.split()\n",
    "word1 = word[0][0]\n",
    "word2 = word[1][0]\n",
    "word3 = word[2][0]\n",
    "abbreviation = word1 + word2 + word3\n",
    "print(abbreviation)\n",
    "\n",
    "phrase = \"Python For Everyone\"\n",
    "words = phrase.split()\n",
    "\n",
    "acronym = words[0][0] + words[1][0] + words[2][0]\n",
    "\n",
    "print(\"Acronym:\", acronym)\n"
   ]
  },
  {
   "cell_type": "code",
   "execution_count": 15,
   "id": "b2871bc1-0b3c-4a47-a041-dbfbf8ee52a6",
   "metadata": {},
   "outputs": [
    {
     "name": "stdout",
     "output_type": "stream",
     "text": [
      "CFA\n",
      "Acronym: CFA\n"
     ]
    }
   ],
   "source": [
    "# Create an acronym or an abbreviation for the name 'Coding For All'.\n",
    "name = 'Code For All'\n",
    "word = name.split()\n",
    "word1 = word[0][0]\n",
    "word2 = word[1][0]\n",
    "word3 = word[2][0]\n",
    "abbreviation = word1 + word2 + word3\n",
    "print(abbreviation)\n",
    "\n",
    "phrase = \"Code For All\"\n",
    "words = phrase.split()\n",
    "\n",
    "acronym = words[0][0] + words[1][0] + words[2][0]\n",
    "\n",
    "print(\"Acronym:\", acronym)"
   ]
  },
  {
   "cell_type": "code",
   "execution_count": 23,
   "id": "97c699ff-9a11-491f-8b73-b57c1ee004ea",
   "metadata": {},
   "outputs": [
    {
     "name": "stdout",
     "output_type": "stream",
     "text": [
      "0\n"
     ]
    }
   ],
   "source": [
    "# Use index to determine the position of the first occurrence of C in Coding For All.\n",
    "name = 'Code For All'\n",
    "\n",
    "print(name.index('C'))"
   ]
  },
  {
   "cell_type": "code",
   "execution_count": 25,
   "id": "7dcfe1ee-8d3b-4f4c-8d5b-cf86e63e30de",
   "metadata": {},
   "outputs": [
    {
     "name": "stdout",
     "output_type": "stream",
     "text": [
      "5\n"
     ]
    }
   ],
   "source": [
    "# Use index to determine the position of the first occurrence of F in Coding For \n",
    "name = 'Code For All'\n",
    "print(name.index('F'))"
   ]
  },
  {
   "cell_type": "code",
   "execution_count": 27,
   "id": "0a00062b-301c-4d3d-b866-338b44223f36",
   "metadata": {},
   "outputs": [
    {
     "name": "stdout",
     "output_type": "stream",
     "text": [
      "11\n"
     ]
    }
   ],
   "source": [
    "# Use rfind to determine the position of the last occurrence of l in Coding For All People.\n",
    "name = 'Code For All'\n",
    "print(name.rfind('l'))"
   ]
  },
  {
   "cell_type": "code",
   "execution_count": 37,
   "id": "be269bcb-20ee-4319-886b-1090d97e6d14",
   "metadata": {},
   "outputs": [
    {
     "name": "stdout",
     "output_type": "stream",
     "text": [
      "31\n"
     ]
    }
   ],
   "source": [
    "# Use index or find to find the position of the first occurrence of the word 'because' in the following sentence: \n",
    "# 'You cannot end a sentence with because because because is a conjunction'\n",
    "word = 'You cannot end a sentence with because because because is a conjunction'\n",
    "position = 'because'\n",
    "print(word.index(position))"
   ]
  },
  {
   "cell_type": "code",
   "execution_count": 39,
   "id": "cb3ac618-3cf7-4df4-ab7c-1f09d34cd760",
   "metadata": {},
   "outputs": [
    {
     "name": "stdout",
     "output_type": "stream",
     "text": [
      "47\n"
     ]
    }
   ],
   "source": [
    "# Use rindex to find the position of the first occurrence of the word 'because' in the following sentence: \n",
    "# 'You cannot end a sentence with because because because is a conjunction'\n",
    "word = 'You cannot end a sentence with because because because is a conjunction'\n",
    "position = 'because'\n",
    "print(word.rindex(position))"
   ]
  },
  {
   "cell_type": "code",
   "execution_count": 57,
   "id": "b53b5482-f0d7-4d56-ba6f-7be50a865f09",
   "metadata": {},
   "outputs": [
    {
     "name": "stdout",
     "output_type": "stream",
     "text": [
      "You cannot end a sentence with  is a conjunction\n"
     ]
    }
   ],
   "source": [
    "# Slice out the phrase 'because because because' in the following sentence: 'You cannot end a sentence with because because because is a conjunction'\n",
    "word = 'You cannot end a sentence with because because because is a conjunction'\n",
    "phrase = word.replace('because because because','')\n",
    "print(phrase)"
   ]
  },
  {
   "cell_type": "code",
   "execution_count": 59,
   "id": "c1efe324-26fa-4526-82c0-cf988fb93c49",
   "metadata": {},
   "outputs": [
    {
     "name": "stdout",
     "output_type": "stream",
     "text": [
      "31\n"
     ]
    }
   ],
   "source": [
    "# Find the position of the first occurrence of the word 'because' in the following sentence: \n",
    "# 'You cannot end a sentence with because because because is a conjunction'\n",
    "word = 'You cannot end a sentence with because because because is a conjunction'\n",
    "position = 'because'\n",
    "print(word.find(position))"
   ]
  },
  {
   "cell_type": "code",
   "execution_count": 73,
   "id": "b9859f7f-9ff6-4177-a954-3da75cbcd1cd",
   "metadata": {},
   "outputs": [
    {
     "name": "stdout",
     "output_type": "stream",
     "text": [
      "True\n",
      "True\n"
     ]
    }
   ],
   "source": [
    "# Does ''Coding For All' start with a substring Coding?\n",
    "word = 'Coding For All'\n",
    "phrase = 'Coding'\n",
    "print(word.startswith(phrase))\n",
    "\n",
    "# Does ''Coding For All' start with a substring Coding?\n",
    "word = 'Coding For All'\n",
    "print(word.startswith('Coding'))"
   ]
  },
  {
   "cell_type": "code",
   "execution_count": 75,
   "id": "9406c769-107c-4658-b6f6-13434090d07c",
   "metadata": {},
   "outputs": [
    {
     "name": "stdout",
     "output_type": "stream",
     "text": [
      "False\n"
     ]
    }
   ],
   "source": [
    "# Does 'Coding For All' end with a substring coding?\n",
    "word = 'Coding For All'\n",
    "print(word.endswith('coding'))"
   ]
  },
  {
   "cell_type": "code",
   "execution_count": 85,
   "id": "0e951f82-e9f8-42ec-8814-65f72f155489",
   "metadata": {},
   "outputs": [
    {
     "name": "stdout",
     "output_type": "stream",
     "text": [
      "Coding For All\n",
      "   Coding For All      \n"
     ]
    }
   ],
   "source": [
    "# '   Coding For All      '  , remove the left and right trailing spaces in the given string.\n",
    "word = '   Coding For All      ' \n",
    "removed_spaced = word.strip()\n",
    "print(removed_spaced)\n",
    "\n",
    "word = '   Coding For All      ' \n",
    "print(word)"
   ]
  },
  {
   "cell_type": "code",
   "execution_count": 93,
   "id": "cfcc46c1-2d74-40c1-b992-85644633b428",
   "metadata": {},
   "outputs": [
    {
     "name": "stdout",
     "output_type": "stream",
     "text": [
      "False\n",
      "True\n"
     ]
    }
   ],
   "source": [
    "# Which one of the following variables return True when we use the method isidentifier():\n",
    "# 1. 30DaysOfPython\n",
    "# 2. thirty_days_of_python\n",
    "word = '30DaysOfPython'\n",
    "print(word.isidentifier())\n",
    "\n",
    "word_1 = 'thirty_days_of_python'\n",
    "print(word_1.isidentifier())"
   ]
  },
  {
   "cell_type": "code",
   "execution_count": 103,
   "id": "adaa830e-1e6c-4e78-b0c3-8a011a72c0db",
   "metadata": {},
   "outputs": [
    {
     "name": "stdout",
     "output_type": "stream",
     "text": [
      "['Django', 'Flask', 'Bottle', 'Pyramid', 'Falcon']\n",
      "Django # Flask # Bottle # Pyramid # Falcon\n"
     ]
    }
   ],
   "source": [
    "# The following list contains the names of some of python libraries:\n",
    "# ['Django', 'Flask', 'Bottle', 'Pyramid', 'Falcon']. Join the list with a hash with space string.\n",
    "libraries = ['Django', 'Flask', 'Bottle', 'Pyramid', 'Falcon']\n",
    "print(libraries)\n",
    "\n",
    "libraries = ['Django', 'Flask', 'Bottle', 'Pyramid', 'Falcon']\n",
    "result = ' # '.join(libraries)\n",
    "print(result)"
   ]
  },
  {
   "cell_type": "code",
   "execution_count": 111,
   "id": "7decf8f6-cfc6-43a2-b8d0-f46bd22cde2f",
   "metadata": {},
   "outputs": [
    {
     "name": "stdout",
     "output_type": "stream",
     "text": [
      "I am enjoying this challenge.\n",
      "I just wonder what is next.\n"
     ]
    }
   ],
   "source": [
    "# Use the new line escape sequence to separate the following sentences.\n",
    "# I am enjoying this challenge.\n",
    "# I just wonder what is next.\n",
    "name = 'I am enjoying this challenge.\\nI just wonder what is next.'\n",
    "print(name)"
   ]
  },
  {
   "cell_type": "code",
   "execution_count": 155,
   "id": "2b54c2e0-6a91-4d5e-a432-d7b2a8d788b5",
   "metadata": {},
   "outputs": [
    {
     "name": "stdout",
     "output_type": "stream",
     "text": [
      "Name      \tAge \tCountry \tCity\n",
      "Asabeneh  \t250 \tFinland \tHelsinki\n",
      "Name      \tAge\tCountry  \tCity\n",
      "Asabeneh  \t250\tFinland  \tHelsinki\n"
     ]
    }
   ],
   "source": [
    "# Use a tab escape sequence to write the following lines.\n",
    "# Name      Age     Country   City\n",
    "# Asabeneh  250     Finland   Helsinki\n",
    "Headers = 'Name      \\tAge \\tCountry \\tCity'\n",
    "data =    'Asabeneh  \\t250 \\tFinland \\tHelsinki'\n",
    "print(Headers)\n",
    "print(data)\n",
    "\n",
    "\n",
    "print('Name      \\tAge\\tCountry  \\tCity')\n",
    "print('Asabeneh  \\t250\\tFinland  \\tHelsinki')"
   ]
  },
  {
   "cell_type": "code",
   "execution_count": 159,
   "id": "efddb1aa-584f-439d-9bf9-06ec6de3ddb6",
   "metadata": {},
   "outputs": [
    {
     "name": "stdout",
     "output_type": "stream",
     "text": [
      "The area of a circle with radius 10 is 314.0 meters square.\n"
     ]
    }
   ],
   "source": [
    "# Use the string formatting method to display the following:\n",
    "radius = 10\n",
    "area = 3.14 * radius ** 2\n",
    "print(f'The area of a circle with radius {radius} is {area} meters square.')\n",
    "\n"
   ]
  },
  {
   "cell_type": "code",
   "execution_count": 171,
   "id": "151d64c3-6b1d-4e34-bdfc-70d3008d40bb",
   "metadata": {},
   "outputs": [
    {
     "name": "stdout",
     "output_type": "stream",
     "text": [
      "Add : 8 + 6 = 14\n",
      "Subtract : 8 - 6 = 2\n",
      "Multiply : 8 * 6 = 48\n",
      "Divide : 8 / 6 = 1.33\n",
      "Modulo : 8 % 6 = 2\n",
      "Reminder : 8 // 6 = 1\n",
      "Exponential : 8 ** 6 = 262144\n"
     ]
    }
   ],
   "source": [
    "# Make the following using string formatting methods:\n",
    "a = 8\n",
    "b = 6\n",
    "print(f'Add : {a} + {b} = {a+b}')\n",
    "print(f'Subtract : {a} - {b} = {a-b}')\n",
    "print(f'Multiply : {a} * {b} = {a*b}')\n",
    "print(f'Divide : {a} / {b} = {a/b:.2f}')\n",
    "print(f'Modulo : {a} % {b} = {a%b}')\n",
    "print(f'Reminder : {a} // {b} = {a//b}')\n",
    "print(f'Exponential : {a} ** {b} = {a**b}')"
   ]
  },
  {
   "cell_type": "code",
   "execution_count": null,
   "id": "06421f93-8f82-45c5-82d9-4cce760f0211",
   "metadata": {},
   "outputs": [],
   "source": []
  }
 ],
 "metadata": {
  "kernelspec": {
   "display_name": "Python [conda env:anaconda3]",
   "language": "python",
   "name": "conda-env-anaconda3-py"
  },
  "language_info": {
   "codemirror_mode": {
    "name": "ipython",
    "version": 3
   },
   "file_extension": ".py",
   "mimetype": "text/x-python",
   "name": "python",
   "nbconvert_exporter": "python",
   "pygments_lexer": "ipython3",
   "version": "3.11.4"
  }
 },
 "nbformat": 4,
 "nbformat_minor": 5
}
